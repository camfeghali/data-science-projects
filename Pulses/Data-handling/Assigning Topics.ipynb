{
 "cells": [
  {
   "cell_type": "code",
   "execution_count": 22,
   "metadata": {},
   "outputs": [],
   "source": [
    "import pandas as pd\n",
    "import numpy as np"
   ]
  },
  {
   "cell_type": "code",
   "execution_count": 23,
   "metadata": {},
   "outputs": [
    {
     "name": "stderr",
     "output_type": "stream",
     "text": [
      "C:\\Users\\admin\\Anaconda3\\lib\\site-packages\\IPython\\core\\interactiveshell.py:2785: DtypeWarning: Columns (0,2,4,7,8,9,10,11,13,15,18) have mixed types. Specify dtype option on import or set low_memory=False.\n",
      "  interactivity=interactivity, compiler=compiler, result=result)\n"
     ]
    }
   ],
   "source": [
    "dictlist = pd.read_csv('Dictionnaries.csv')\n",
    "df = pd.read_csv('twitter_bcn_2017-12.csv')"
   ]
  },
  {
   "cell_type": "code",
   "execution_count": 24,
   "metadata": {},
   "outputs": [],
   "source": [
    "## Create empty columns to hold the score we will give a tweet, highest count will define to which topic the tweet belongs to\n",
    "df['Business'] = int(0)\n",
    "df['Sports'] = int(0)\n",
    "df['Places'] = int(0)\n",
    "df['Politics'] = int(0)\n",
    "df['Social'] = int(0)\n",
    "df['Technology'] = int(0)\n",
    "df['Nature'] = int(0)\n",
    "df['Culture'] = int(0)\n",
    "df['Leisure'] = int(0)\n",
    "df['good_feeling']=int(0)\n",
    "df['bad_feeling']=int(0)"
   ]
  },
  {
   "cell_type": "code",
   "execution_count": 25,
   "metadata": {},
   "outputs": [],
   "source": [
    "## Get the dictionnary words we manually picked\n",
    "badFeeling_words = dictlist['Bad Feelings'].tolist()\n",
    "business_words = dictlist['Business'].tolist()\n",
    "sports_words = dictlist['Sports'].tolist()\n",
    "places_words = dictlist['Places'].tolist()\n",
    "goodFeeling_words = dictlist['Bad Feelings'].tolist()\n",
    "politics_words = dictlist['Politics'].tolist()\n",
    "social_words = dictlist['Social'].tolist()\n",
    "technology_words = dictlist['Technology'].tolist()\n",
    "nature_words = dictlist['Nature'].tolist()\n",
    "culture_words = dictlist['Culture'].tolist()\n",
    "leisure_words = dictlist['Leisure'].tolist()"
   ]
  },
  {
   "cell_type": "code",
   "execution_count": 26,
   "metadata": {},
   "outputs": [],
   "source": [
    "## Convert the list elements to strings\n",
    "badFeeling_words = [ str(x) for x in badFeeling_words ]\n",
    "business_words = [ str(x) for x in business_words ]\n",
    "sports_words = [ str(x) for x in sports_words ]\n",
    "places_words = [ str(x) for x in places_words ]\n",
    "goodFeeling_words = [ str(x) for x in goodFeeling_words ]\n",
    "politics_words = [ str(x) for x in politics_words ]\n",
    "social_words = [ str(x) for x in social_words ]\n",
    "technology_words = [ str(x) for x in technology_words ]\n",
    "leisure_words = [ str(x) for x in leisure_words ]\n",
    "nature_words = [ str(x) for x in nature_words ]\n",
    "culture_words = [ str(x) for x in culture_words ]"
   ]
  },
  {
   "cell_type": "code",
   "execution_count": 27,
   "metadata": {},
   "outputs": [],
   "source": [
    "## Clean the tweets from @, # and make them lower case\n",
    "df['TWEET TEXT']=df['TWEET TEXT'].apply(lambda x: str(x).replace(\"@\",\" \").lower().replace(\"#\",\" \"))"
   ]
  },
  {
   "cell_type": "code",
   "execution_count": 28,
   "metadata": {},
   "outputs": [
    {
     "data": {
      "text/plain": [
       "351291"
      ]
     },
     "execution_count": 28,
     "metadata": {},
     "output_type": "execute_result"
    }
   ],
   "source": [
    "len(df)"
   ]
  },
  {
   "cell_type": "code",
   "execution_count": 29,
   "metadata": {},
   "outputs": [],
   "source": [
    "## Here we assign scores to each tweet\n",
    "\n",
    "text=df['TWEET TEXT'] #single out the tweet column\n",
    "for i in range(0,len(df)):\n",
    "    texty=text.iloc[i] #single out the row\n",
    "    for word in business_words: # Verify against the list of selected words\n",
    "        if word in texty: #if present, add one.\n",
    "            df.at[i, 'Business'] += 1\n",
    "    for word in technology_words:\n",
    "        if word in texty:\n",
    "            df.at[i, 'Technology'] += 1\n",
    "    for word in sports_words:\n",
    "        if word in texty:\n",
    "            df.at[i, 'Sports'] += 1\n",
    "    for word in places_words:\n",
    "        if word in texty:\n",
    "            df.at[i, 'Places'] += 1\n",
    "    for word in politics_words:\n",
    "        if word in texty:\n",
    "            df.at[i, 'Politics'] += 1\n",
    "    for word in social_words:\n",
    "        if word in texty:\n",
    "            df.at[i, 'Social'] += 1\n",
    "    for word in nature_words:\n",
    "        if word in texty:\n",
    "            df.at[i, 'Nature'] += 1\n",
    "    for word in culture_words:\n",
    "        if word in texty:\n",
    "            df.at[i, 'Culture'] += 1\n",
    "    for word in leisure_words:\n",
    "        if word in texty:\n",
    "            df.at[i, 'Leisure'] += 1\n",
    "    for word in goodFeeling_words:\n",
    "        if word in texty:\n",
    "            df.at[i, 'good_feeling'] += 1\n",
    "    for word in badFeeling_words:\n",
    "        if word in texty:\n",
    "            df.at[i, 'bad_feeling'] += 1"
   ]
  },
  {
   "cell_type": "code",
   "execution_count": 30,
   "metadata": {},
   "outputs": [],
   "source": [
    "## Assign topic \n",
    "df['TOPIC'] = df[['Business','Sports','Places','Politics','Social','Technology','Nature','Culture','Leisure']].idxmax(axis=1)"
   ]
  },
  {
   "cell_type": "code",
   "execution_count": 31,
   "metadata": {},
   "outputs": [],
   "source": [
    "## Assign ''not classified'' to those who have no words in the dict\n",
    "for i in range(0,len(df)):\n",
    "    bus=df['Business'][i]\n",
    "    spo=df['Sports'][i]\n",
    "    pla=df['Places'][i]\n",
    "    pol=df['Politics'][i]\n",
    "    soc=df['Social'][i]\n",
    "    tec=df['Technology'][i]\n",
    "    nat=df['Nature'][i]\n",
    "    cul=df['Culture'][i]\n",
    "    lei=df['Leisure'][i]\n",
    "    top=df['TOPIC'][i]\n",
    "    \n",
    "    total_score=bus+spo+pla+pol+soc+tec+nat+cul+lei\n",
    "    \n",
    "    if total_score == 0:\n",
    "        df.at[i, 'TOPIC'] = \"not classified\""
   ]
  },
  {
   "cell_type": "code",
   "execution_count": 32,
   "metadata": {},
   "outputs": [],
   "source": [
    "df.to_csv('DataFrame.csv',index=False, encoding='utf-8')"
   ]
  },
  {
   "cell_type": "code",
   "execution_count": 259,
   "metadata": {},
   "outputs": [],
   "source": []
  },
  {
   "cell_type": "code",
   "execution_count": 260,
   "metadata": {},
   "outputs": [],
   "source": []
  },
  {
   "cell_type": "code",
   "execution_count": 262,
   "metadata": {},
   "outputs": [],
   "source": []
  },
  {
   "cell_type": "code",
   "execution_count": null,
   "metadata": {},
   "outputs": [],
   "source": []
  },
  {
   "cell_type": "code",
   "execution_count": 272,
   "metadata": {},
   "outputs": [],
   "source": []
  },
  {
   "cell_type": "code",
   "execution_count": null,
   "metadata": {},
   "outputs": [],
   "source": []
  },
  {
   "cell_type": "code",
   "execution_count": 279,
   "metadata": {},
   "outputs": [],
   "source": []
  },
  {
   "cell_type": "code",
   "execution_count": 282,
   "metadata": {},
   "outputs": [],
   "source": []
  },
  {
   "cell_type": "code",
   "execution_count": null,
   "metadata": {},
   "outputs": [],
   "source": []
  },
  {
   "cell_type": "code",
   "execution_count": null,
   "metadata": {},
   "outputs": [],
   "source": []
  },
  {
   "cell_type": "code",
   "execution_count": 243,
   "metadata": {},
   "outputs": [],
   "source": []
  },
  {
   "cell_type": "code",
   "execution_count": null,
   "metadata": {},
   "outputs": [],
   "source": []
  },
  {
   "cell_type": "code",
   "execution_count": null,
   "metadata": {},
   "outputs": [],
   "source": []
  },
  {
   "cell_type": "code",
   "execution_count": null,
   "metadata": {},
   "outputs": [],
   "source": []
  },
  {
   "cell_type": "code",
   "execution_count": null,
   "metadata": {},
   "outputs": [],
   "source": []
  },
  {
   "cell_type": "code",
   "execution_count": null,
   "metadata": {},
   "outputs": [],
   "source": []
  },
  {
   "cell_type": "code",
   "execution_count": null,
   "metadata": {},
   "outputs": [],
   "source": []
  },
  {
   "cell_type": "code",
   "execution_count": null,
   "metadata": {},
   "outputs": [],
   "source": []
  },
  {
   "cell_type": "code",
   "execution_count": null,
   "metadata": {},
   "outputs": [],
   "source": []
  },
  {
   "cell_type": "code",
   "execution_count": null,
   "metadata": {},
   "outputs": [],
   "source": []
  },
  {
   "cell_type": "code",
   "execution_count": null,
   "metadata": {},
   "outputs": [],
   "source": []
  },
  {
   "cell_type": "code",
   "execution_count": null,
   "metadata": {},
   "outputs": [],
   "source": []
  },
  {
   "cell_type": "code",
   "execution_count": null,
   "metadata": {},
   "outputs": [],
   "source": []
  },
  {
   "cell_type": "code",
   "execution_count": null,
   "metadata": {},
   "outputs": [],
   "source": []
  },
  {
   "cell_type": "code",
   "execution_count": 234,
   "metadata": {},
   "outputs": [],
   "source": []
  },
  {
   "cell_type": "code",
   "execution_count": 235,
   "metadata": {},
   "outputs": [],
   "source": []
  },
  {
   "cell_type": "code",
   "execution_count": null,
   "metadata": {},
   "outputs": [],
   "source": []
  },
  {
   "cell_type": "code",
   "execution_count": null,
   "metadata": {},
   "outputs": [],
   "source": []
  }
 ],
 "metadata": {
  "kernelspec": {
   "display_name": "Python 3",
   "language": "python",
   "name": "python3"
  },
  "language_info": {
   "codemirror_mode": {
    "name": "ipython",
    "version": 3
   },
   "file_extension": ".py",
   "mimetype": "text/x-python",
   "name": "python",
   "nbconvert_exporter": "python",
   "pygments_lexer": "ipython3",
   "version": "3.6.5"
  }
 },
 "nbformat": 4,
 "nbformat_minor": 2
}
