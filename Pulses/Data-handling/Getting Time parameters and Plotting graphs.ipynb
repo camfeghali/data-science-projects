{
 "cells": [
  {
   "cell_type": "code",
   "execution_count": 135,
   "metadata": {},
   "outputs": [],
   "source": [
    "import pandas as pd\n",
    "import seaborn as sns\n",
    "import numpy as np\n",
    "import matplotlib.pyplot as plt\n",
    "%matplotlib inline"
   ]
  },
  {
   "cell_type": "code",
   "execution_count": 136,
   "metadata": {},
   "outputs": [
    {
     "name": "stderr",
     "output_type": "stream",
     "text": [
      "C:\\Users\\admin\\Anaconda3\\lib\\site-packages\\IPython\\core\\interactiveshell.py:2785: DtypeWarning: Columns (0,2,4,7,8,9,10,11,13,15,18) have mixed types. Specify dtype option on import or set low_memory=False.\n",
      "  interactivity=interactivity, compiler=compiler, result=result)\n"
     ]
    }
   ],
   "source": [
    "df=pd.read_csv('DataFrame.csv')"
   ]
  },
  {
   "cell_type": "code",
   "execution_count": 137,
   "metadata": {},
   "outputs": [],
   "source": [
    "## Get Time stamp \n",
    "timeStamp=[]\n",
    "for i in range(0,len(df)):\n",
    "    try:\n",
    "        stamp=df['CREATED AT'][i]\n",
    "        stamp=str(stamp)\n",
    "        stamp=stamp[11:19]\n",
    "        stamp=stamp.replace(\":\",\"\")\n",
    "        timeStamp.append(stamp)\n",
    "    except'IndexError':\n",
    "        timestamp.append('none')\n",
    "df_timestamp=pd.DataFrame(timeStamp, columns=['timeStamp'])\n",
    "df = pd.concat([df, df_timestamp], axis=1)"
   ]
  },
  {
   "cell_type": "code",
   "execution_count": null,
   "metadata": {},
   "outputs": [],
   "source": [
    "# ## Make a function to remove the :\n",
    "# def remover(x):\n",
    "#     x=x.replace(\":\",\"\")\n",
    "#     return x"
   ]
  },
  {
   "cell_type": "code",
   "execution_count": null,
   "metadata": {},
   "outputs": [],
   "source": [
    "# ## Apply the function\n",
    "# df['timeStamp']=df['timeStamp'].apply(remover)"
   ]
  },
  {
   "cell_type": "code",
   "execution_count": null,
   "metadata": {},
   "outputs": [],
   "source": [
    "# ## Create a list of the timestamps\n",
    "# type_list=[]\n",
    "# for i in range(0,len(df)):\n",
    "#     stamp = df['timeStamp'][i]\n",
    "#     if stamp =='':\n",
    "#         type_list.append(0)\n",
    "#     else:\n",
    "#         stamp=float(stamp)\n",
    "#         type_list.append(stamp)"
   ]
  },
  {
   "cell_type": "code",
   "execution_count": null,
   "metadata": {},
   "outputs": [],
   "source": [
    "# df.drop('timeStamp',axis=1,inplace=True)"
   ]
  },
  {
   "cell_type": "code",
   "execution_count": null,
   "metadata": {},
   "outputs": [],
   "source": [
    "# df_timestamp=pd.DataFrame(type_list, columns=['timeStamp'])\n",
    "# df = pd.concat([df, df_timestamp], axis=1)"
   ]
  },
  {
   "cell_type": "code",
   "execution_count": 138,
   "metadata": {},
   "outputs": [],
   "source": [
    "for i in range(0,len(df)):\n",
    "    if df['timeStamp'][i]=='':\n",
    "        df.at[i, 'timeStamp'] = 0\n",
    "    else:\n",
    "        df.at[i, 'timeStamp'] = float(df.at[i, 'timeStamp'])"
   ]
  },
  {
   "cell_type": "code",
   "execution_count": null,
   "metadata": {},
   "outputs": [],
   "source": []
  },
  {
   "cell_type": "code",
   "execution_count": 139,
   "metadata": {},
   "outputs": [],
   "source": [
    "df['timeRange']=int\n",
    "for i in range(0,len(df)):\n",
    "    timeStamp=df['timeStamp'][i]\n",
    "    if (0<timeStamp<10000) :\n",
    "        df.at[i, 'timeRange'] = 1\n",
    "    elif (10000<timeStamp<20000) :\n",
    "        df.at[i, 'timeRange'] = 2\n",
    "    elif (20000<timeStamp<30000) :\n",
    "        df.at[i, 'timeRange'] = 3       \n",
    "    elif (30000<timeStamp<40000) :\n",
    "        df.at[i, 'timeRange'] = 4        \n",
    "    elif (40000<timeStamp<50000) :\n",
    "        df.at[i, 'timeRange'] = 5\n",
    "    elif (50000<timeStamp<60000) :\n",
    "        df.at[i, 'timeRange'] = 6\n",
    "    elif (60000<timeStamp<70000) :\n",
    "        df.at[i, 'timeRange'] = 7\n",
    "    elif (70000<timeStamp<80000) :\n",
    "        df.at[i, 'timeRange'] = 8\n",
    "    elif (80000<timeStamp<90000) :\n",
    "        df.at[i, 'timeRange'] = 9\n",
    "    elif (90000<timeStamp<100000) :\n",
    "        df.at[i, 'timeRange'] = 10\n",
    "    elif (100000<timeStamp<110000) :\n",
    "        df.at[i, 'timeRange'] = 11\n",
    "    elif (110000<timeStamp<120000) :\n",
    "        df.at[i, 'timeRange'] = 12\n",
    "    elif (120000<timeStamp<130000) :\n",
    "        df.at[i, 'timeRange'] = 13\n",
    "    elif (130000<timeStamp<140000) :\n",
    "        df.at[i, 'timeRange'] = 14\n",
    "    elif (140000<timeStamp<150000) :\n",
    "        df.at[i, 'timeRange'] = 15\n",
    "    elif (150000<timeStamp<160000) :\n",
    "        df.at[i, 'timeRange'] = 16\n",
    "    elif (160000<timeStamp<170000) :\n",
    "        df.at[i, 'timeRange'] = 17\n",
    "    elif (170000<timeStamp<180000) :\n",
    "        df.at[i, 'timeRange'] = 18\n",
    "    elif (180000<timeStamp<190000) :\n",
    "        df.at[i, 'timeRange'] = 19\n",
    "    elif (190000<timeStamp<200000) :\n",
    "        df.at[i, 'timeRange'] = 20\n",
    "    elif (200000<timeStamp<210000) :\n",
    "        df.at[i, 'timeRange'] = 21\n",
    "    elif (210000<timeStamp<220000) :\n",
    "        df.at[i, 'timeRange'] = 22\n",
    "    elif (220000<timeStamp<230000) :\n",
    "        df.at[i, 'timeRange'] = 23\n",
    "    elif (230000<timeStamp<240000) :\n",
    "        df.at[i, 'timeRange'] = 24"
   ]
  },
  {
   "cell_type": "code",
   "execution_count": 140,
   "metadata": {},
   "outputs": [],
   "source": [
    "df['DayOfTheWeek']=\"\"\n",
    "df['Day']=int"
   ]
  },
  {
   "cell_type": "code",
   "execution_count": 141,
   "metadata": {},
   "outputs": [],
   "source": [
    "for i in range(0,len(df)):\n",
    "    day=df['CREATED AT'][i]\n",
    "    day=str(day)\n",
    "    if day =='nan' or day==\"0\" or day =='201':\n",
    "        df.at[i, 'DayOfTheWeek'] = 'nothing here'\n",
    "    else:\n",
    "        day=df['CREATED AT'][i][0:3]\n",
    "        df.at[i, 'DayOfTheWeek'] = day\n",
    "df_Day=df[df['DayOfTheWeek']!='nothing here']\n",
    "df_Day1=df_Day[df_Day['DayOfTheWeek']!='201']"
   ]
  },
  {
   "cell_type": "code",
   "execution_count": 142,
   "metadata": {},
   "outputs": [],
   "source": [
    "for i in range(0,len(df)):\n",
    "    day=df['CREATED AT'][i]\n",
    "    day=str(day)\n",
    "    if day =='nan':\n",
    "        df.at[i, 'Day'] = 0\n",
    "    else:\n",
    "        day=df['CREATED AT'][i][8:10]\n",
    "        df.at[i, 'Day'] = day"
   ]
  },
  {
   "cell_type": "code",
   "execution_count": 150,
   "metadata": {},
   "outputs": [
    {
     "name": "stderr",
     "output_type": "stream",
     "text": [
      "C:\\Users\\admin\\Anaconda3\\lib\\site-packages\\matplotlib\\axes\\_axes.py:6462: UserWarning: The 'normed' kwarg is deprecated, and has been replaced by the 'density' kwarg.\n",
      "  warnings.warn(\"The 'normed' kwarg is deprecated, and has been \"\n"
     ]
    },
    {
     "data": {
      "text/plain": [
       "<matplotlib.axes._subplots.AxesSubplot at 0x21dc3a62be0>"
      ]
     },
     "execution_count": 150,
     "metadata": {},
     "output_type": "execute_result"
    },
    {
     "data": {
      "image/png": "[encoded data removed]",
      "text/plain": [
       "<Figure size 432x288 with 1 Axes>"
      ]
     },
     "metadata": {},
     "output_type": "display_data"
    }
   ],
   "source": [
    "## plot according to time stamp\n",
    "sns.distplot(df['timeStamp'].astype(float))"
   ]
  },
  {
   "cell_type": "code",
   "execution_count": 144,
   "metadata": {},
   "outputs": [
    {
     "data": {
      "text/plain": [
       "<matplotlib.axes._subplots.AxesSubplot at 0x21dc20cb5c0>"
      ]
     },
     "execution_count": 144,
     "metadata": {},
     "output_type": "execute_result"
    },
    {
     "data": {
      "image/png": "[encoded data removed]",
      "text/plain": [
       "<Figure size 432x288 with 1 Axes>"
      ]
     },
     "metadata": {},
     "output_type": "display_data"
    }
   ],
   "source": [
    "##Countplot by topic\n",
    "sns.countplot(df['TOPIC'])"
   ]
  },
  {
   "cell_type": "code",
   "execution_count": 145,
   "metadata": {},
   "outputs": [
    {
     "data": {
      "text/plain": [
       "<matplotlib.axes._subplots.AxesSubplot at 0x21dc2129fd0>"
      ]
     },
     "execution_count": 145,
     "metadata": {},
     "output_type": "execute_result"
    },
    {
     "data": {
      "image/png": "[encoded data removed]",
      "text/plain": [
       "<Figure size 432x288 with 1 Axes>"
      ]
     },
     "metadata": {},
     "output_type": "display_data"
    }
   ],
   "source": [
    "#countplot by day\n",
    "sns.countplot(df_Day1['DayOfTheWeek'])"
   ]
  },
  {
   "cell_type": "code",
   "execution_count": 146,
   "metadata": {},
   "outputs": [
    {
     "data": {
      "text/plain": [
       "<matplotlib.axes._subplots.AxesSubplot at 0x21dc381c2b0>"
      ]
     },
     "execution_count": 146,
     "metadata": {},
     "output_type": "execute_result"
    },
    {
     "data": {
      "image/png": "[encoded data removed]",
      "text/plain": [
       "<Figure size 432x288 with 1 Axes>"
      ]
     },
     "metadata": {},
     "output_type": "display_data"
    }
   ],
   "source": [
    "#countplot by day\n",
    "sns.countplot(df['Day'])"
   ]
  },
  {
   "cell_type": "code",
   "execution_count": 147,
   "metadata": {},
   "outputs": [
    {
     "data": {
      "text/plain": [
       "<matplotlib.axes._subplots.AxesSubplot at 0x21dc38f5b38>"
      ]
     },
     "execution_count": 147,
     "metadata": {},
     "output_type": "execute_result"
    },
    {
     "data": {
      "image/png": "[encoded data removed]",
      "text/plain": [
       "<Figure size 432x288 with 1 Axes>"
      ]
     },
     "metadata": {},
     "output_type": "display_data"
    }
   ],
   "source": [
    "## Countplot for politics everyday\n",
    "df_politics=df[df['TOPIC']=='Politics']\n",
    "sns.countplot(df_politics['Day'])"
   ]
  },
  {
   "cell_type": "code",
   "execution_count": null,
   "metadata": {},
   "outputs": [],
   "source": []
  },
  {
   "cell_type": "code",
   "execution_count": null,
   "metadata": {},
   "outputs": [],
   "source": []
  }
 ],
 "metadata": {
  "kernelspec": {
   "display_name": "Python 3",
   "language": "python",
   "name": "python3"
  },
  "language_info": {
   "codemirror_mode": {
    "name": "ipython",
    "version": 3
   },
   "file_extension": ".py",
   "mimetype": "text/x-python",
   "name": "python",
   "nbconvert_exporter": "python",
   "pygments_lexer": "ipython3",
   "version": "3.6.5"
  }
 },
 "nbformat": 4,
 "nbformat_minor": 2
}
